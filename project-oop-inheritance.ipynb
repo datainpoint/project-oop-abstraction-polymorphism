{
 "cells": [
  {
   "cell_type": "markdown",
   "metadata": {},
   "source": [
    "# 物件導向程式設計四大支柱之二：繼承\n",
    "\n",
    "> 續談第二支柱：繼承（Inheritance）。\n",
    ">\n",
    "> 標籤：程式設計\n",
    "\n",
    "郭耀仁 <yaojenkuo@datainpoint.com> from [DATAINPOINT](https://datainpoint.substack.com/welcome)"
   ]
  },
  {
   "cell_type": "markdown",
   "metadata": {},
   "source": [
    "## TL; DR\n",
    "\n",
    "在這個專案中，我們打算使用 Python 定義兩個類別：分別是 `SimpleCalculator` 與 `AdvancedCalculator`；其中 `SimpleCalculator` 類別具有四個成員方法以及一個成員屬性；`AdvancedCalculator` 類別繼承了 `SimpleCalculator` 類別並新增一個方法。透過這個專案，我們能夠暸解何謂物件導向的第二支柱：繼承。"
   ]
  },
  {
   "cell_type": "markdown",
   "metadata": {},
   "source": [
    "## 定義 `SimpleCalculator` 類別"
   ]
  },
  {
   "cell_type": "code",
   "execution_count": 1,
   "metadata": {},
   "outputs": [],
   "source": [
    "class SimpleCalculator:\n",
    "    def __init__(self):\n",
    "        self.e = 2.71828\n",
    "    def add(self, a, b):\n",
    "        return a + b\n",
    "    def subtract(self, a, b):\n",
    "        return a - b\n",
    "    def multiply(self, a, b):\n",
    "        return a*b\n",
    "    def divide(self, a, b):\n",
    "        return a/b"
   ]
  },
  {
   "cell_type": "markdown",
   "metadata": {},
   "source": [
    "## 定義 `AdvancedCalculator` 繼承 `SimpleCalculator` 類別\n",
    "\n",
    "在什麼事都不做的情況下（像是僅傳入一個 pass 保留字）就具備了四個成員方法以及一個成員屬性。"
   ]
  },
  {
   "cell_type": "code",
   "execution_count": 2,
   "metadata": {},
   "outputs": [],
   "source": [
    "class AdvancedCalculator(SimpleCalculator):\n",
    "    pass # do nothing\n",
    "ac = AdvancedCalculator()\n",
    "# Call member methods and attributes of ac\n",
    "print(ac.add(55, 66))\n",
    "print(ac.subtract(55, 66))\n",
    "print(ac.multiply(55, 66))\n",
    "print(ac.divide(55, 110))\n",
    "print(ac.e)"
   ]
  },
  {
   "cell_type": "markdown",
   "metadata": {},
   "source": [
    "## 以內建函式 `issubclass()` 判斷 `AdvancedCalculator` 是否繼承 `SimpleCalculator`"
   ]
  },
  {
   "cell_type": "code",
   "execution_count": 3,
   "metadata": {},
   "outputs": [
    {
     "data": {
      "text/plain": [
       "True"
      ]
     },
     "execution_count": 3,
     "metadata": {},
     "output_type": "execute_result"
    }
   ],
   "source": [
    "issubclass(AdvancedCalculator, SimpleCalculator)"
   ]
  },
  {
   "cell_type": "markdown",
   "metadata": {},
   "source": [
    "## 為 `AdvancedCalculator` 新增方法 `exp(power)`"
   ]
  },
  {
   "cell_type": "code",
   "execution_count": 4,
   "metadata": {},
   "outputs": [
    {
     "name": "stdout",
     "output_type": "stream",
     "text": [
      "121\n",
      "-11\n",
      "3630\n",
      "0.5\n",
      "2.71828\n"
     ]
    }
   ],
   "source": [
    "class AdvancedCalculator(SimpleCalculator):\n",
    "    def exp(self, power):\n",
    "        return self.e**power\n",
    "\n",
    "ac = AdvancedCalculator()\n",
    "# Call member methods and attributes inherited from SimpleCalculator\n",
    "print(ac.add(55, 66))\n",
    "print(ac.subtract(55, 66))\n",
    "print(ac.multiply(55, 66))\n",
    "print(ac.divide(55, 110))\n",
    "print(ac.e)"
   ]
  },
  {
   "cell_type": "code",
   "execution_count": 5,
   "metadata": {},
   "outputs": [
    {
     "data": {
      "text/plain": [
       "7.3890461584"
      ]
     },
     "execution_count": 5,
     "metadata": {},
     "output_type": "execute_result"
    }
   ],
   "source": [
    "# Call newly added member method\n",
    "ac.exp(2)"
   ]
  }
 ],
 "metadata": {
  "kernelspec": {
   "display_name": "Python Data Analysis",
   "language": "python",
   "name": "pyda"
  },
  "language_info": {
   "codemirror_mode": {
    "name": "ipython",
    "version": 3
   },
   "file_extension": ".py",
   "mimetype": "text/x-python",
   "name": "python",
   "nbconvert_exporter": "python",
   "pygments_lexer": "ipython3",
   "version": "3.6.8"
  }
 },
 "nbformat": 4,
 "nbformat_minor": 4
}
