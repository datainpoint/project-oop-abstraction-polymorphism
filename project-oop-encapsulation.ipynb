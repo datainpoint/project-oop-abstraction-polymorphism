{
 "cells": [
  {
   "cell_type": "markdown",
   "metadata": {},
   "source": [
    "# 物件導向程式設計四大支柱之一：封裝\n",
    "\n",
    "> 從第一支柱：封裝（Encapsulation）談起。\n",
    ">\n",
    "> 標籤：程式設計\n",
    "\n",
    "郭耀仁 <yaojenkuo@datainpoint.com> from [DATAINPOINT](https://datainpoint.substack.com/welcome)"
   ]
  },
  {
   "cell_type": "markdown",
   "metadata": {},
   "source": [
    "## TL; DR\n",
    "\n",
    "在這個專案中，我們打算使用 Python 自訂兩個類別 `CircleArea` 與 `Exponential`；這兩個類別都分別具有一個成員屬性以及一個成員方法，我們會先以順序型態程式設計寫作一次，然後再以物件導向程式設計改寫。透過這個專案，我們能夠暸解何謂物件導向的第一支柱：封裝。"
   ]
  },
  {
   "cell_type": "markdown",
   "metadata": {},
   "source": [
    "## 順序型態程式設計：圓形面積\n",
    "\n",
    "\\begin{equation}\n",
    "\\text{Circle} \\;  \\text{Area} = \\pi r^2 \\\\\n",
    "\\text{where} \\; \\pi = 3.14159\n",
    "\\end{equation}"
   ]
  },
  {
   "cell_type": "code",
   "execution_count": 1,
   "metadata": {},
   "outputs": [
    {
     "data": {
      "text/plain": [
       "78.53975"
      ]
     },
     "execution_count": 1,
     "metadata": {},
     "output_type": "execute_result"
    }
   ],
   "source": [
    "def circle_area(r):\n",
    "    pi = 3.14159\n",
    "    area = pi*r**2\n",
    "    return area\n",
    "\n",
    "circle_area(5)"
   ]
  },
  {
   "cell_type": "markdown",
   "metadata": {},
   "source": [
    "## 物件導向程式設計：圓形面積\n",
    "\n",
    "- 成員屬性：`_pi`\n",
    "- 成員方法：`calculate()`"
   ]
  },
  {
   "cell_type": "code",
   "execution_count": 2,
   "metadata": {},
   "outputs": [
    {
     "name": "stdout",
     "output_type": "stream",
     "text": [
      "3.14159\n",
      "78.53975\n"
     ]
    }
   ],
   "source": [
    "class CircleArea:\n",
    "    def __init__(self):\n",
    "        self._pi = 3.14159\n",
    "    def calculate(self, r):\n",
    "        area = self._pi*r**2\n",
    "        return area\n",
    "\n",
    "ca = CircleArea()\n",
    "print(ca._pi)          # 成員屬性\n",
    "print(ca.calculate(5)) # 成員方法"
   ]
  },
  {
   "cell_type": "markdown",
   "metadata": {},
   "source": [
    "## 順序型態程式設計：指數函數\n",
    "\n",
    "\\begin{equation}\n",
    "\\exp(x) = e^x \\\\\n",
    "\\text{where} \\; e = 2.71828182846\n",
    "\\end{equation}"
   ]
  },
  {
   "cell_type": "code",
   "execution_count": 3,
   "metadata": {},
   "outputs": [
    {
     "data": {
      "text/plain": [
       "7.38905609893584"
      ]
     },
     "execution_count": 3,
     "metadata": {},
     "output_type": "execute_result"
    }
   ],
   "source": [
    "def exponential(x):\n",
    "    e = 2.71828182846\n",
    "    return e**x\n",
    "\n",
    "exponential(2)"
   ]
  },
  {
   "cell_type": "markdown",
   "metadata": {},
   "source": [
    "## 物件導向程式設計：指數函數"
   ]
  },
  {
   "cell_type": "code",
   "execution_count": 4,
   "metadata": {},
   "outputs": [
    {
     "name": "stdout",
     "output_type": "stream",
     "text": [
      "2.71828182846\n",
      "7.38905609893584\n"
     ]
    }
   ],
   "source": [
    "class Exponential:\n",
    "    def __init__(self):\n",
    "        self._e = 2.71828182846\n",
    "    def power(self, x):\n",
    "        return self._e**x\n",
    "\n",
    "exp = Exponential()\n",
    "print(exp._e)       # 成員屬性\n",
    "print(exp.power(2)) # 成員方法"
   ]
  }
 ],
 "metadata": {
  "kernelspec": {
   "display_name": "Python Data Analysis",
   "language": "python",
   "name": "pyda"
  },
  "language_info": {
   "codemirror_mode": {
    "name": "ipython",
    "version": 3
   },
   "file_extension": ".py",
   "mimetype": "text/x-python",
   "name": "python",
   "nbconvert_exporter": "python",
   "pygments_lexer": "ipython3",
   "version": "3.6.8"
  }
 },
 "nbformat": 4,
 "nbformat_minor": 4
}
